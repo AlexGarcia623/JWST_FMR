{
 "cells": [
  {
   "cell_type": "code",
   "execution_count": 1,
   "metadata": {},
   "outputs": [],
   "source": [
    "import matplotlib as mpl\n",
    "mpl.use('Agg')\n",
    "import numpy as np\n",
    "import matplotlib.pyplot as plt\n",
    "import h5py\n",
    "import matplotlib as mpl\n",
    "import os"
   ]
  },
  {
   "cell_type": "code",
   "execution_count": 3,
   "metadata": {},
   "outputs": [],
   "source": [
    "%matplotlib inline\n",
    "# set RC params\n",
    "plt.rcParams['figure.facecolor'] = 'white'\n",
    "mpl.rcParams['axes.facecolor']='white'\n",
    "mpl.rcParams['font.size'] = 20\n",
    "mpl.rcParams['axes.linewidth'] = 1.5\n",
    "mpl.rcParams['xtick.direction'] = 'in'\n",
    "mpl.rcParams['ytick.direction'] = 'in'\n",
    "mpl.rcParams['xtick.minor.visible'] = 'true'\n",
    "mpl.rcParams['ytick.minor.visible'] = 'true'\n",
    "mpl.rcParams['xtick.major.width'] = 1.5\n",
    "mpl.rcParams['ytick.major.width'] = 1.5\n",
    "mpl.rcParams['xtick.minor.width'] = 1.0\n",
    "mpl.rcParams['ytick.minor.width'] = 1.0\n",
    "mpl.rcParams['xtick.major.size'] = 7.5\n",
    "mpl.rcParams['ytick.major.size'] = 7.5\n",
    "mpl.rcParams['xtick.minor.size'] = 3.5\n",
    "mpl.rcParams['ytick.minor.size'] = 3.5\n",
    "mpl.rcParams['xtick.top'] = True\n",
    "mpl.rcParams['ytick.right'] = True\n",
    "\n",
    "os.environ['MANPATH']=\"/home/paul.torrey/local/texlive/2018/texmf-dist/doc/man:$MANPATH\"\n",
    "os.environ['INFOPATH']=\"/home/paul.torrey/local/texlive/2018/texmf-dist/doc/info:$INFOPATH\"\n",
    "os.environ['PATH']=\"/home/paul.torrey/local/texlive/2018/bin/x86_64-linux:/home/paul.torrey/local/texlive/2018/texmf-dist:$PATH\"\n",
    "\n",
    "# %set_env MANPATH=/home/paul.torrey/local/texlive/2018/texmf-dist/doc/man:$MANPATH\n",
    "# %set_env INFOPATH=/home/paul.torrey/local/texlive/2018/texmf-dist/doc/info:$INFOPATH\n",
    "# %set_env PATH=/home/paul.torrey/local/texlive/2018/bin/x86_64-linux:/home/paul.torrey/local/texlive/2018/texmf-dist:$PATH\n",
    "mpl.rcParams['text.usetex']        = True\n",
    "# mpl.rcParams['text.latex.unicode'] = True\n",
    "mpl.rcParams['font.family']        = 'serif'\n",
    "mpl.rc('font',**{'family':'sans-serif','serif':['Times New Roman'],'size':15})\n",
    "mpl.rc('text', usetex=True)"
   ]
  },
  {
   "cell_type": "code",
   "execution_count": 4,
   "metadata": {},
   "outputs": [],
   "source": [
    "BLUE_FMR = './blue_FMR/'"
   ]
  },
  {
   "cell_type": "code",
   "execution_count": 5,
   "metadata": {},
   "outputs": [],
   "source": [
    "all_alpha_gas = []\n",
    "\n",
    "use = {\n",
    "    \"EAGLE\":[20,19,15,12,10, 8, 6, 5, 4],\n",
    "    \"TNG\":[99,50,33,25,21,17,13,11,8 ],\n",
    "    \"ORIGINAL\":[135,86 ,68 ,60 ,54 ,49 ,45 ,41 ,38 ]\n",
    "}\n",
    "get_idx = {\n",
    "    'ORIGINAL':{135:0,\n",
    "            86 :1,\n",
    "            68 :2,\n",
    "            60 :3,\n",
    "            54 :4,\n",
    "            49 :5,\n",
    "            45 :6,\n",
    "            41 :7,\n",
    "            38 :8,\n",
    "            35 :9,\n",
    "            32 :10},\n",
    "    'EAGLE':{28:0,\n",
    "            19:1,\n",
    "            15:2,\n",
    "            12:3,\n",
    "            10:4,\n",
    "             8:5,\n",
    "             6:6,\n",
    "             5:7,\n",
    "             4:8,\n",
    "             3:9,\n",
    "             2:10},\n",
    "    \"TNG\":{99:0,\n",
    "            50:1,\n",
    "            33:2,\n",
    "            25:3,\n",
    "            21:4,\n",
    "            17:5,\n",
    "            13:6,\n",
    "            11:7,\n",
    "            8 :8,\n",
    "            6 :9,\n",
    "            4 :10}\n",
    "}"
   ]
  },
  {
   "cell_type": "code",
   "execution_count": 6,
   "metadata": {},
   "outputs": [
    {
     "name": "stdout",
     "output_type": "stream",
     "text": [
      "EAGLE\n",
      "ORIGINAL\n",
      "TNG\n",
      "EAGLE\n",
      "ORIGINAL\n",
      "TNG\n"
     ]
    }
   ],
   "source": [
    "all_alpha_gas = []\n",
    "\n",
    "with h5py.File(BLUE_FMR + 'alpha_gas_values.h5', 'r') as f:\n",
    "    for simulation in f:\n",
    "        print(simulation)\n",
    "        current = f.get(simulation)\n",
    "        c_alpha = np.zeros(8+1)\n",
    "        for snap in current:\n",
    "            _ = int(snap.split('_')[0].replace('snap',''))\n",
    "            index = get_idx[simulation][_]\n",
    "            if (index < len(c_alpha)):\n",
    "                #print(_,index,np.array(current.get( snap )))\n",
    "                c_alpha[index] = float(np.array(current.get( snap )))\n",
    "        all_alpha_gas.append(c_alpha)\n",
    "        \n",
    "all_uncertain_gas = []\n",
    "\n",
    "with h5py.File(BLUE_FMR + 'alpha_uncertainty_gas_values.h5', 'r') as f:\n",
    "    for simulation in f:\n",
    "        print(simulation)\n",
    "        current   = f.get(simulation)\n",
    "        c_alpha_l = np.zeros(8+1)\n",
    "        c_alpha_u = np.zeros(8+1)\n",
    "        for snap in current:\n",
    "            _ = int(snap.split('_')[0].replace('snap',''))\n",
    "            index = get_idx[simulation][_]\n",
    "            if (index < len(c_alpha)):\n",
    "                #print(_,index,np.array(current.get( snap )))\n",
    "                c_alpha_l[index] = list(np.array(current.get( snap )))[0]\n",
    "                c_alpha_u[index] = list(np.array(current.get( snap )))[1]\n",
    "        all_uncertain_gas.append( list(zip(c_alpha_l,c_alpha_u)) )\n",
    "        "
   ]
  },
  {
   "cell_type": "code",
   "execution_count": 7,
   "metadata": {},
   "outputs": [
    {
     "name": "stdout",
     "output_type": "stream",
     "text": [
      "EAGLE\n",
      "ORIGINAL\n",
      "TNG\n"
     ]
    }
   ],
   "source": [
    "all_decrement_gas = []\n",
    "with h5py.File(BLUE_FMR + 'alpha_gas_decrement.h5', 'r') as f:\n",
    "    for simulation in f:\n",
    "        print(simulation)\n",
    "        current   = f.get(simulation)\n",
    "        dec_ratio = np.zeros(8+1)\n",
    "        for snap in current:\n",
    "            _ = int(snap.split('_')[0].replace('snap',''))\n",
    "            index = get_idx[simulation][_]\n",
    "            if (index < len(c_alpha)):\n",
    "                #print(_,index,np.array(current.get( snap )))\n",
    "                dec_ratio[index] = np.array(current.get( snap ))[0] / np.array(current.get( snap ))[1]\n",
    "        all_decrement_gas.append( dec_ratio )"
   ]
  },
  {
   "cell_type": "code",
   "execution_count": 8,
   "metadata": {},
   "outputs": [
    {
     "data": {
      "text/plain": [
       "[array([1.27112741, 1.37565595, 1.24942276, 1.25400426, 1.25070367,\n",
       "        1.22565329, 1.20981083, 1.20246116, 1.11862075]),\n",
       " array([1.10712416, 1.10084681, 1.13201104, 1.20770603, 1.26305897,\n",
       "        1.29812272, 1.28585613, 1.3124653 , 1.40058513]),\n",
       " array([1.02117414, 1.30721482, 1.32101012, 1.34579677, 1.30575499,\n",
       "        1.29690723, 1.28789424, 1.23562838, 1.25365729])]"
      ]
     },
     "execution_count": 8,
     "metadata": {},
     "output_type": "execute_result"
    }
   ],
   "source": [
    "all_decrement_gas"
   ]
  },
  {
   "cell_type": "code",
   "execution_count": 9,
   "metadata": {},
   "outputs": [
    {
     "name": "stdout",
     "output_type": "stream",
     "text": [
      "EAGLE\n",
      "ORIGINAL\n",
      "TNG\n",
      "EAGLE\n",
      "ORIGINAL\n",
      "TNG\n"
     ]
    }
   ],
   "source": [
    "all_alpha_stars = []\n",
    "\n",
    "with h5py.File(BLUE_FMR + 'alpha_stars_values.h5', 'r') as f:\n",
    "    for simulation in f:\n",
    "        print(simulation)\n",
    "        current = f.get(simulation)\n",
    "        c_alpha = np.zeros(8+1)\n",
    "        for snap in current:\n",
    "            _ = int(snap.split('_')[0].replace('snap',''))\n",
    "            index = get_idx[simulation][_]\n",
    "            if (index < len(c_alpha)):\n",
    "                #print(_,index,np.array(current.get( snap )))\n",
    "                c_alpha[index] = float(np.array(current.get( snap )))\n",
    "        all_alpha_stars.append(c_alpha)\n",
    "        \n",
    "all_uncertain_stars = []\n",
    "\n",
    "with h5py.File(BLUE_FMR + 'alpha_uncertainty_stars_values.h5', 'r') as f:\n",
    "    for simulation in f:\n",
    "        print(simulation)\n",
    "        current   = f.get(simulation)\n",
    "        c_alpha_l = np.zeros(8+1)\n",
    "        c_alpha_u = np.zeros(8+1)\n",
    "        for snap in current:\n",
    "            _ = int(snap.split('_')[0].replace('snap',''))\n",
    "            index = get_idx[simulation][_]\n",
    "            if (index < len(c_alpha)):\n",
    "                #print(_,index,np.array(current.get( snap )))\n",
    "                c_alpha_l[index] = list(np.array(current.get( snap )))[0]\n",
    "                c_alpha_u[index] = list(np.array(current.get( snap )))[1]\n",
    "        all_uncertain_stars.append( list(zip(c_alpha_l,c_alpha_u)) )"
   ]
  },
  {
   "cell_type": "code",
   "execution_count": 10,
   "metadata": {},
   "outputs": [],
   "source": [
    "EAGLE_stars      = np.array(all_alpha_stars[0])\n",
    "ORIGINAL_stars   = np.array(all_alpha_stars[1])\n",
    "TNG_stars        = np.array(all_alpha_stars[2])\n",
    "\n",
    "EAGLE_stars_u    = np.array(all_uncertain_stars[0])\n",
    "ORIGINAL_stars_u = np.array(all_uncertain_stars[1])\n",
    "TNG_stars_u      = np.array(all_uncertain_stars[2])"
   ]
  },
  {
   "cell_type": "code",
   "execution_count": 11,
   "metadata": {},
   "outputs": [],
   "source": [
    "EAGLE_gas    = np.array(all_alpha_gas[0])\n",
    "ORIGINAL_gas = np.array(all_alpha_gas[1])\n",
    "TNG_gas      = np.array(all_alpha_gas[2])\n",
    "\n",
    "EAGLE_gas_u    = np.array(all_uncertain_gas[0])\n",
    "ORIGINAL_gas_u = np.array(all_uncertain_gas[1])\n",
    "TNG_gas_u      = np.array(all_uncertain_gas[2])\n",
    "\n",
    "EAGLE_dec    = np.array(all_decrement_gas[0])\n",
    "ORIGINAL_dec = np.array(all_decrement_gas[1])\n",
    "TNG_dec      = np.array(all_decrement_gas[2])"
   ]
  },
  {
   "cell_type": "code",
   "execution_count": 12,
   "metadata": {},
   "outputs": [
    {
     "data": {
      "image/png": "[encoded data removed]",
      "text/plain": [
       "<Figure size 576x252 with 1 Axes>"
      ]
     },
     "metadata": {},
     "output_type": "display_data"
    }
   ],
   "source": [
    "fig = plt.figure(figsize=(8,3.5))\n",
    "\n",
    "max_z = 8\n",
    "\n",
    "UNCERTAIN = True\n",
    "\n",
    "z = [0,1,2,3,4,5,6,7,8]\n",
    "\n",
    "EAGLE_upper = EAGLE_stars_u[:,1] - EAGLE_stars\n",
    "EAGLE_lower = EAGLE_stars        - EAGLE_stars_u[:,0]\n",
    "\n",
    "ORIGINAL_upper = ORIGINAL_stars_u[:,1] - ORIGINAL_stars\n",
    "ORIGINAL_lower = ORIGINAL_stars        - ORIGINAL_stars_u[:,0]\n",
    "\n",
    "TNG_upper = TNG_stars_u[:,1] - TNG_stars\n",
    "TNG_lower = TNG_stars        - TNG_stars_u[:,0]\n",
    "\n",
    "ms = 7\n",
    "if UNCERTAIN:\n",
    "    plt.errorbar( z, EAGLE_stars   , label=r'${\\rm EAGLE}$'    , alpha=0.75, color='C0', yerr = [EAGLE_lower   , EAGLE_upper], linestyle='none', marker='o', markersize=ms)\n",
    "    plt.errorbar( z, ORIGINAL_stars, label=r'${\\rm Illustris}$', alpha=0.75, color='C1', yerr = [ORIGINAL_lower, ORIGINAL_upper], linestyle='none', marker='^', markersize=ms)\n",
    "    plt.errorbar( z, TNG_stars     , label=r'${\\rm TNG}$'      , alpha=0.75, color='C2', yerr = [TNG_lower     , TNG_upper], linestyle='none', marker='*', markersize=ms)\n",
    "else:\n",
    "    plt.scatter( z, EAGLE_stars   , label=r'${\\rm EAGLE}$'    , alpha=0.75, color='C0', s=20 )\n",
    "    plt.scatter( z, ORIGINAL_stars, label=r'${\\rm Illustris}$', alpha=0.75, color='C1', s=20 )\n",
    "    plt.scatter( z, TNG_stars     , label=r'${\\rm TNG}$'      , alpha=0.75, color='C2', s=20 )\n",
    "\n",
    "leg  = plt.legend(frameon=False,handletextpad=0, handlelength=0,\n",
    "                  markerscale=0,loc='upper left',labelspacing=0.05)\n",
    "\n",
    "if UNCERTAIN:\n",
    "    # get handles\n",
    "    handles, labels = plt.gca().get_legend_handles_labels()\n",
    "    # remove the errorbars\n",
    "    handles = [h[0] for h in handles]\n",
    "    # use them in the legend\n",
    "    leg = plt.legend(frameon=False,handletextpad=0.75, handlelength=0,labelspacing=0.01,\n",
    "                 loc='upper left')\n",
    "\n",
    "lCol = ['C0','C1','C2']\n",
    "for n, text in enumerate( leg.texts ):\n",
    "    text.set_color( lCol[n] )\n",
    "\n",
    "    \n",
    "plt.xlabel(r'${\\rm Redshift}$')\n",
    "plt.ylabel(r'$\\alpha$')\n",
    "\n",
    "plt.axhline(0.33 ,color='k',linestyle='--')\n",
    "plt.text(0.8,0.375,r'${\\rm M10 ~(Gas)}$',fontsize=14,alpha=0.5,transform=plt.gca().transAxes)\n",
    "plt.axhline(0.66 ,color='k',linestyle='-.')\n",
    "plt.text(0.8,0.7,r'${\\rm AM13 ~(Gas)}$',fontsize=14,alpha=0.5,transform=plt.gca().transAxes)\n",
    "plt.axhline(0.55 ,color='k',linestyle='solid')\n",
    "plt.text(0.8,0.575,r'${\\rm C20~(Gas)}$',fontsize=14,alpha=0.5,transform=plt.gca().transAxes)\n",
    "ymin, _ = plt.ylim()\n",
    "\n",
    "plt.ylim(ymin,1)\n",
    "\n",
    "plt.tight_layout()\n",
    "\n",
    "# plt.text(0.3,0.8,r'$5\\%~{\\rm  uncertainty}$', transform=plt.gca().transAxes )\n",
    "\n",
    "plt.savefig(BLUE_FMR + \"Stars_Comparison.pdf\")\n",
    "plt.show()"
   ]
  },
  {
   "cell_type": "code",
   "execution_count": 31,
   "metadata": {},
   "outputs": [
    {
     "data": {
      "image/png": "[encoded data removed]",
      "text/plain": [
       "<Figure size 576x252 with 1 Axes>"
      ]
     },
     "metadata": {},
     "output_type": "display_data"
    }
   ],
   "source": [
    "fig = plt.figure(figsize=(8,3.5))\n",
    "\n",
    "max_z = 8\n",
    "\n",
    "\n",
    "ORIGINAL_COMBINED = 0.26\n",
    "TNG_COMBINED      = 0.54\n",
    "EAGLE_COMBINED    = 0.71\n",
    "\n",
    "UNCERTAIN = True\n",
    "COMBINED  = True\n",
    "\n",
    "z = np.array([0,1,2,3,4,5,6,7,8])\n",
    "\n",
    "EAGLE_upper = EAGLE_gas_u[:,1] - EAGLE_gas\n",
    "EAGLE_lower = EAGLE_gas        - EAGLE_gas_u[:,0]\n",
    "\n",
    "ORIGINAL_upper = ORIGINAL_gas_u[:,1] - ORIGINAL_gas\n",
    "ORIGINAL_lower = ORIGINAL_gas        - ORIGINAL_gas_u[:,0]\n",
    "\n",
    "TNG_upper = TNG_gas_u[:,1] - TNG_gas\n",
    "TNG_lower = TNG_gas        - TNG_gas_u[:,0]\n",
    "\n",
    "ms=7\n",
    "if UNCERTAIN:\n",
    "    plt.errorbar( z+0.00, ORIGINAL_gas, label=r'${\\rm Illustris}$', alpha=0.75, color='C1', yerr = [ORIGINAL_lower, ORIGINAL_upper], linestyle='none', marker='^',markersize=ms)\n",
    "    plt.errorbar( z+0.05, TNG_gas     , label=r'${\\rm TNG}$'      , alpha=0.75, color='C2', yerr = [TNG_lower     , TNG_upper], linestyle='none', marker='*',markersize=ms)\n",
    "    plt.errorbar( z-0.05, EAGLE_gas   , label=r'${\\rm EAGLE}$'    , alpha=0.75, color='C0', yerr = [EAGLE_lower   , EAGLE_upper], linestyle='none', marker='o',markersize=ms)\n",
    "else:\n",
    "    plt.scatter( z+0.1, EAGLE_gas   , label=r'${\\rm EAGLE}$'    , alpha=0.75, color='C0', s=20 )\n",
    "    plt.scatter( z+0.0, ORIGINAL_gas, label=r'${\\rm Illustris}$', alpha=0.75, color='C1', s=20 )\n",
    "    plt.scatter( z-0.1, TNG_gas     , label=r'${\\rm TNG}$'      , alpha=0.75, color='C2', s=20 )\n",
    "    \n",
    "    \n",
    "leg  = plt.legend(frameon=True,handletextpad=0, handlelength=0,\n",
    "                  markerscale=0,loc='lower right',labelspacing=0.05)\n",
    "lCol = ['C1','C2','C0']\n",
    "for n, text in enumerate( leg.texts ):\n",
    "    text.set_color( lCol[n] )\n",
    "if UNCERTAIN:\n",
    "    # get handles\n",
    "    handles, labels = plt.gca().get_legend_handles_labels()\n",
    "    # remove the errorbars\n",
    "    handles = [h[0] for h in handles]\n",
    "    # use them in the legend\n",
    "    leg = plt.legend(frameon=True,handletextpad=0.75, handlelength=0,labelspacing=0.01,\n",
    "                 loc='lower center')\n",
    "    for n, text in enumerate( leg.texts ):\n",
    "        text.set_color( lCol[n] )\n",
    "leg.get_frame().set_alpha(1.0)\n",
    "leg.get_frame().set_edgecolor('white')\n",
    "if COMBINED:\n",
    "    plt.axhline( EAGLE_COMBINED   , color='C0', linestyle=':', label=r'${\\rm EAGLE}$'     )\n",
    "    plt.axhline( ORIGINAL_COMBINED, color='C1', linestyle=':', label=r'${\\rm Illustris}$' )\n",
    "    plt.axhline( TNG_COMBINED     , color='C2', linestyle=':', label=r'${\\rm TNG}$'       )\n",
    "    \n",
    "plt.scatter( np.arange(0,9), np.ones(9), color='white' )\n",
    "\n",
    "    \n",
    "plt.xlabel(r'${\\rm Redshift}$')\n",
    "plt.ylabel(r'$\\alpha_{\\rm min}$')\n",
    "\n",
    "plt.scatter(0.25,0.33 ,color='k',alpha=0.5,marker='s')\n",
    "plt.text(0.35,0.3,r'${\\rm M10}$',fontsize=14,alpha=0.5)#,transform=plt.gca().transAxes)\n",
    "\n",
    "plt.scatter(0.25,0.66 ,color='k',alpha=0.5,marker='s')\n",
    "plt.text(0.35,0.63,r'${\\rm AM13}$',fontsize=14,alpha=0.5)#,transform=plt.gca().transAxes)\n",
    "\n",
    "plt.scatter(0.25,0.55 ,color='k',alpha=0.5,marker='s')\n",
    "plt.text(0.35,0.52,r'${\\rm C20}$',fontsize=14,alpha=0.5)#,transform=plt.gca().transAxes)\n",
    "ymin, _ = plt.ylim()\n",
    "\n",
    "plt.ylim(0,1)\n",
    "\n",
    "plt.tight_layout()\n",
    "\n",
    "# plt.text(0.3,0.8,r'$5\\%~{\\rm  uncertainty}$', transform=plt.gca().transAxes )\n",
    "\n",
    "plt.savefig(BLUE_FMR + \"Gas_Comparison.pdf\",bbox_inches='tight' )\n",
    "plt.show()"
   ]
  },
  {
   "cell_type": "code",
   "execution_count": 43,
   "metadata": {
    "tags": []
   },
   "outputs": [
    {
     "name": "stdout",
     "output_type": "stream",
     "text": [
      "0.84\n",
      "0.81\n",
      "0.75\n",
      "0.68\n",
      "0.62\n",
      "0.56\n",
      "0.54\n",
      "0.49\n",
      "0.42\n"
     ]
    }
   ],
   "source": [
    "for i in EAGLE_gas_u[:,1]:\n",
    "    print (round(i,2))\n",
    "# TNG_gas     \n",
    "# EAGLE_gas   "
   ]
  },
  {
   "cell_type": "code",
   "execution_count": 13,
   "metadata": {},
   "outputs": [
    {
     "data": {
      "image/png": "[encoded data removed]",
      "text/plain": [
       "<Figure size 576x252 with 1 Axes>"
      ]
     },
     "metadata": {},
     "output_type": "display_data"
    }
   ],
   "source": [
    "fig = plt.figure(figsize=(8,3.5))\n",
    "\n",
    "max_z = 8\n",
    "\n",
    "UNCERTAIN = True\n",
    "\n",
    "z = np.arange(0,max_z+1,1)\n",
    "\n",
    "plt.scatter(z, EAGLE_dec    , label=r'${\\rm EAGLE}$'     , color='C0')\n",
    "plt.scatter(z, ORIGINAL_dec , label=r'${\\rm Illustris}$' , color='C1')\n",
    "plt.scatter(z, TNG_dec      , label=r'${\\rm TNG}$'       , color='C2')\n",
    "\n",
    "leg  = plt.legend(frameon=False,handletextpad=0, handlelength=0,\n",
    "                  markerscale=0,loc='upper left',labelspacing=0.05)\n",
    "\n",
    "lCol = ['C0','C1','C2','k']\n",
    "for n, text in enumerate( leg.texts ):\n",
    "    text.set_color( lCol[n] )\n",
    "\n",
    "plt.xlabel(r'${\\rm Redshift}$')\n",
    "plt.ylabel(r'${\\rm Scatter~Reduction}$')\n",
    "\n",
    "loc, labels = plt.yticks()\n",
    "\n",
    "newlabels = [ r'$%s$' %round(l*100 - 100) + r'$\\%$' for l in loc[1::2]]\n",
    "\n",
    "plt.yticks(ticks=loc[1::2],labels=newlabels)\n",
    "\n",
    "plt.axhline(1.0,color='k',linestyle='--')\n",
    "\n",
    "plt.ylim( 0.95, 1.05*np.max(all_decrement_gas) )\n",
    "\n",
    "plt.xlim(-0.25,8.25)\n",
    "\n",
    "width = 0.1\n",
    "\n",
    "plt.fill_between( np.arange(-5,10), 1 + width, 0, color='gray', alpha=0.5 )\n",
    "\n",
    "plt.tight_layout()\n",
    "\n",
    "plt.savefig(BLUE_FMR + \"Gas_decrement.pdf\")\n",
    "plt.show()"
   ]
  },
  {
   "cell_type": "markdown",
   "metadata": {},
   "source": [
    "# Bootstrap"
   ]
  },
  {
   "cell_type": "code",
   "execution_count": 55,
   "metadata": {},
   "outputs": [],
   "source": [
    "bootstrap_dir = './blue_FMR/bootstrap/'\n",
    "\n",
    "def get_all_arr(WHICH_SIM, Dir):\n",
    "    \n",
    "    WHICH_SIM = WHICH_SIM.upper()\n",
    "    \n",
    "    means = np.load( Dir + '%s_mean.npy' %WHICH_SIM )\n",
    "    low   = means - np.load( Dir + '%s_low.npy'  %WHICH_SIM ) \n",
    "    high  = np.load( Dir + '%s_high.npy' %WHICH_SIM ) - means\n",
    "    \n",
    "    return means, low, high"
   ]
  },
  {
   "cell_type": "code",
   "execution_count": 56,
   "metadata": {},
   "outputs": [],
   "source": [
    "ill   = get_all_arr(\"original\",bootstrap_dir)\n",
    "tng   = get_all_arr(\"tng\",bootstrap_dir)\n",
    "eagle = get_all_arr(\"eagle\",bootstrap_dir)"
   ]
  },
  {
   "cell_type": "code",
   "execution_count": 59,
   "metadata": {},
   "outputs": [
    {
     "data": {
      "image/png": "[encoded data removed]",
      "text/plain": [
       "<Figure size 576x252 with 1 Axes>"
      ]
     },
     "metadata": {},
     "output_type": "display_data"
    }
   ],
   "source": [
    "fig = plt.figure(figsize=(8,3.5))\n",
    "\n",
    "zs = np.arange(0,11)\n",
    "means = [eagle[0],ill[0],tng[0]]\n",
    "lows  = [eagle[1],ill[1],tng[1]]\n",
    "highs = [eagle[2],ill[2],tng[2]]\n",
    "\n",
    "names = [r\"${\\rm EAGLE}$\", r\"${\\rm Illustris}$\", r'${\\rm TNG}$']\n",
    "\n",
    "for index in range(len(means)):\n",
    "    plt.errorbar( zs, means[index], yerr=[lows[index],highs[index]], label=names[index], linestyle='none', marker='o' )\n",
    "    \n",
    "plt.xlabel(r'${\\rm Reshift}$')\n",
    "plt.ylabel(r'$\\alpha$')\n",
    "\n",
    "plt.axhline(0.33 ,color='k',linestyle='--')\n",
    "plt.text(0.8,0.375,r'${\\rm M+10 ~(Gas)}$',fontsize=14,alpha=1,transform=plt.gca().transAxes)\n",
    "plt.axhline(0.66 ,color='k',linestyle='-.')\n",
    "plt.text(0.8,0.7,r'${\\rm AM+13 ~(Gas)}$',fontsize=14,alpha=1,transform=plt.gca().transAxes)\n",
    "ymin, _ = plt.ylim()\n",
    "\n",
    "plt.ylim(ymin,1)\n",
    "\n",
    "plt.tight_layout()\n",
    "leg  = plt.legend(frameon=False,handletextpad=0, handlelength=0,\n",
    "                  markerscale=-1,loc='upper left',labelspacing=0.05)\n",
    "lCol = ['C0','C1','C2']\n",
    "for n, text in enumerate( leg.texts ):\n",
    "    text.set_color( lCol[n] )\n",
    "plt.axvline(8.5, color='red',linestyle='--')\n",
    "plt.text( 0.5,0.8,r'${\\rm N~samples:~} 5000$', transform=plt.gca().transAxes,ha='center' )\n",
    "plt.savefig(BLUE_FMR + \"Stars_bootstrap.pdf\")\n",
    "# plt.show()"
   ]
  },
  {
   "cell_type": "code",
   "execution_count": null,
   "metadata": {},
   "outputs": [],
   "source": []
  }
 ],
 "metadata": {
  "kernelspec": {
   "display_name": "UFRC Python-3.10",
   "language": "python",
   "name": "python3-3.10-ufrc"
  },
  "language_info": {
   "codemirror_mode": {
    "name": "ipython",
    "version": 3
   },
   "file_extension": ".py",
   "mimetype": "text/x-python",
   "name": "python",
   "nbconvert_exporter": "python",
   "pygments_lexer": "ipython3",
   "version": "3.10.5"
  }
 },
 "nbformat": 4,
 "nbformat_minor": 4
}
